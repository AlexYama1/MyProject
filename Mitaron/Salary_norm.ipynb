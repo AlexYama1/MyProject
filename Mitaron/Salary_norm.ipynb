{
 "cells": [
  {
   "cell_type": "markdown",
   "id": "f10c09d4",
   "metadata": {},
   "source": [
    "### 年収を平均化"
   ]
  },
  {
   "cell_type": "code",
   "execution_count": 2,
   "id": "10750a82",
   "metadata": {},
   "outputs": [],
   "source": [
    "import polars as pl\n",
    "import numpy as np"
   ]
  },
  {
   "cell_type": "markdown",
   "id": "ffed980f",
   "metadata": {},
   "source": [
    "### Cleaning df"
   ]
  },
  {
   "cell_type": "code",
   "execution_count": 3,
   "id": "caa7d582",
   "metadata": {},
   "outputs": [],
   "source": [
    "# Cleaning df2:\n",
    "file2 = \"/Users/lex/CodeProjects/MyProject/Mitaron/共産平均年収.csv\"\n",
    "df2 = pl.read_csv(file2)\n",
    "\n",
    "df2 = df2.with_columns(\n",
    "    pl.col(\"平均年収\")\n",
    "    .cast(pl.Int64)\n",
    "    .alias(\"平均年収\")\n",
    ")\n",
    "df2.write_csv(\"共産平均年収.csv\")"
   ]
  },
  {
   "cell_type": "markdown",
   "id": "b08abdac",
   "metadata": {},
   "source": [
    "### Merging & Labeling"
   ]
  },
  {
   "cell_type": "code",
   "execution_count": null,
   "id": "3f5f74bc",
   "metadata": {},
   "outputs": [],
   "source": [
    "# Sources\n",
    "file1 = \"/Users/lex/CodeProjects/MyProject/Mitaron/会社平均年収.csv\"\n",
    "# file2 = \"/Users/lex/CodeProjects/MyProject/Mitaron/共産平均年収.csv\"\n",
    "\n",
    "# Reading Files\n",
    "df1 = pl.scan_csv(file1)\n",
    "df2 = pl.scan_csv(file2)\n",
    "\n",
    "# Merging\n",
    "merged = pl.concat([df1, df2])"
   ]
  },
  {
   "cell_type": "code",
   "execution_count": null,
   "id": "f8505cbe",
   "metadata": {},
   "outputs": [
    {
     "name": "stdout",
     "output_type": "stream",
     "text": [
      "Number of bins: 13\n",
      "Bins: [450, 500, 550, 600, 650, 700, 750, 800, 850, 900, 1000, 1250, 1000000000000.0]\n"
     ]
    }
   ],
   "source": [
    "# Defining the Edges \n",
    "min_salary = merged.select(pl.col(\"平均年収\").min()).collect()[0,0]\n",
    "step_bins = np.arange(min_salary, 900, 50).tolist()\n",
    "custom_bins = [900, 1000, 1250, 1e12]\n",
    "bins = step_bins + custom_bins\n",
    "\n",
    "print(f\"Number of bins: {len(bins)}\")\n",
    "print(f\"Bins: {bins}\")\n",
    "\n",
    "# First, use cut without labels\n",
    "final = merged.with_columns(\n",
    "    pl.col(\"平均年収\")\n",
    "    .cut(breaks=bins)\n",
    "    .alias(\"平均年収\")  # Overwrite the original column\n",
    ").collect()\n",
    "\n",
    "# Transforming the Interval into the Label: \n",
    "final = final.with_columns(\n",
    "    pl.col(\"平均年収\")\n",
    "    .cast(pl.Utf8)\n",
    "    .str.replace_all(r\"^\\((\\d+), (\\d+)\\]$\", \"$1 - $2\")\n",
    "    .str.replace(r\"^\\(1250, .*\\]$\", \"1250+\")\n",
    "    .alias(\"平均年収\")\n",
    "    )\n",
    "\n",
    "# Write to CSV\n",
    "final.write_csv(\"最終平均年収.csv\")"
   ]
  }
 ],
 "metadata": {
  "kernelspec": {
   "display_name": "Python (DataScienceEnv)",
   "language": "python",
   "name": "datasci-env"
  },
  "language_info": {
   "codemirror_mode": {
    "name": "ipython",
    "version": 3
   },
   "file_extension": ".py",
   "mimetype": "text/x-python",
   "name": "python",
   "nbconvert_exporter": "python",
   "pygments_lexer": "ipython3",
   "version": "3.13.0"
  }
 },
 "nbformat": 4,
 "nbformat_minor": 5
}
