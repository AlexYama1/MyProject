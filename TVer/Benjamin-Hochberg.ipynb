{
 "cells": [
  {
   "cell_type": "markdown",
   "id": "86ba4b95",
   "metadata": {},
   "source": [
    "# Generating the required sample size for the Push Notifications"
   ]
  },
  {
   "cell_type": "markdown",
   "id": "7adc1cca",
   "metadata": {},
   "source": [
    "## Using the Benjamini-Hochberg for estimation"
   ]
  },
  {
   "cell_type": "markdown",
   "id": "0be07521",
   "metadata": {},
   "source": [
    "### Benjamini-Hochberg"
   ]
  },
  {
   "cell_type": "code",
   "execution_count": 1,
   "id": "98b48986",
   "metadata": {},
   "outputs": [],
   "source": [
    "import numpy as np \n",
    "import pandas as pd\n",
    "import scipy as stats\n",
    "from scipy import stats\n",
    "from statsmodels.stats.multitest import fdrcorrection"
   ]
  },
  {
   "cell_type": "code",
   "execution_count": 2,
   "id": "0bad65f0",
   "metadata": {},
   "outputs": [],
   "source": [
    "### Fixed Parametrers ###\n",
    "n_days = 21\n",
    "n_slots = 15\n",
    "baseline_ctr = 0.3 # Base line click Through Rate\n",
    "lift = 0.0007 # (20%)\n",
    "alpha_fdr = 0.05\n",
    "target_power = 0.80\n",
    "reps = 200 # Reps for Monte Carlo\n",
    "###################\n",
    "\n",
    "# Lock the randomisation: \n",
    "rng = np.random.default_rng(42)"
   ]
  },
  {
   "cell_type": "code",
   "execution_count": 3,
   "id": "e8dcde4d",
   "metadata": {},
   "outputs": [],
   "source": [
    "### Simulating Function ###\n",
    "\n",
    "def run_one_simulation(n_users: int) -> bool:\n",
    "    \n",
    "    slots = rng.integers(0, n_slots, size = (n_users, n_days))\n",
    "\n",
    "    # True Conversion Rate: \n",
    "    true_CTR = np.full(n_slots, baseline_ctr)\n",
    "    true_CTR[8] += lift # Setting that slot 8 performs better\n",
    "\n",
    "    # Simulate Clicks (Bernoulli outcomes)\n",
    "    clicks =  rng.binomial(1, true_CTR[slots])\n",
    "\n",
    "    # To DF\n",
    "    df = pd.DataFrame({\n",
    "        \"slot\": slots.ravel(),\n",
    "        \"click\": clicks.ravel()\n",
    "    })\n",
    "\n",
    "    ### Computing data per slot ###\n",
    "    groups_stats = df.groupby(\"slot\")[\"click\"].agg([\"mean\", \"count\"])\n",
    "    baseline_p = groups_stats.loc[0,\"mean\"]\n",
    "    baseline_n = groups_stats.loc[0,\"count\"]\n",
    "\n",
    "    ### Two-proportion z-test vs baseline slot (slot 0) ###\n",
    "    p_values = []\n",
    "    for s in range(n_slots):\n",
    "        p = groups_stats.loc[s, \"mean\"]\n",
    "        n = groups_stats.loc[s, \"count\"]\n",
    "\n",
    "        p_comb = (p*n + baseline_p*baseline_n) / (n + baseline_n)\n",
    "        se = np.sqrt(p_comb * (1 - p_comb) * (1/n + 1/baseline_n))\n",
    "        z = (p - baseline_p) / se\n",
    "        pval = 2 * (1 - stats.norm.cdf(abs(z)))\n",
    "        p_values.append(pval)\n",
    "\n",
    "    # Apply Benjamin-Hochberg FDR correction\n",
    "    reject, _ = fdrcorrection(p_values, alpha = alpha_fdr, method = 'indep')\n",
    "\n",
    "    # Did we detect the true best slot? (In this case we set at 8)\n",
    "    return reject[8]"
   ]
  },
  {
   "cell_type": "code",
   "execution_count": 4,
   "id": "42e3f031",
   "metadata": {},
   "outputs": [],
   "source": [
    "### Function: Estimating Power ###\n",
    "def estimate_power(n_users: int) -> float:\n",
    "    detections = sum(run_one_simulation(n_users) for _ in range(reps))\n",
    "    return detections / reps"
   ]
  },
  {
   "cell_type": "code",
   "execution_count": 5,
   "id": "aa03af26",
   "metadata": {},
   "outputs": [
    {
     "name": "stdout",
     "output_type": "stream",
     "text": [
      "n_users = 145,000 -> estimated power = 0.03\n"
     ]
    }
   ],
   "source": [
    "### Going through different Ns ###\n",
    "candidate_ns = [145000]\n",
    "results = []\n",
    "for n in candidate_ns:\n",
    "    power = estimate_power(n)\n",
    "    results.append((n, power))\n",
    "    print(f\"n_users = {n:7,d} -> estimated power = {power:.2f}\")"
   ]
  },
  {
   "cell_type": "markdown",
   "id": "a6651881",
   "metadata": {},
   "source": [
    "### Finding best min N"
   ]
  },
  {
   "cell_type": "code",
   "execution_count": 7,
   "id": "0f0de2a2",
   "metadata": {},
   "outputs": [
    {
     "name": "stdout",
     "output_type": "stream",
     "text": [
      "\n",
      "⚠️ No tested n reached target power — try increasing range.\n",
      "\n",
      "Full results:\n",
      "    n_users  power\n",
      "0   145000  0.025\n"
     ]
    }
   ],
   "source": [
    "df_power = pd.DataFrame(results, columns = [\"n_users\", \"power\"])\n",
    "best = df_power[df_power[\"power\"] >= target_power].head(1)\n",
    "\n",
    "if not best.empty:\n",
    "    best_n = int(best.iloc[0,0])\n",
    "    print(f\"\\n✅ Smallest n achieving ≥{target_power:.0%} power: {best_n:,} users\")\n",
    "else:\n",
    "    print(\"\\n⚠️ No tested n reached target power — try increasing range.\")\n",
    "\n",
    "print(\"\\nFull results:\\n\", df_power)"
   ]
  },
  {
   "cell_type": "code",
   "execution_count": null,
   "id": "27e1f3a4",
   "metadata": {},
   "outputs": [],
   "source": []
  }
 ],
 "metadata": {
  "kernelspec": {
   "display_name": "3.13.0",
   "language": "python",
   "name": "python3"
  },
  "language_info": {
   "codemirror_mode": {
    "name": "ipython",
    "version": 3
   },
   "file_extension": ".py",
   "mimetype": "text/x-python",
   "name": "python",
   "nbconvert_exporter": "python",
   "pygments_lexer": "ipython3",
   "version": "3.13.0"
  }
 },
 "nbformat": 4,
 "nbformat_minor": 5
}
